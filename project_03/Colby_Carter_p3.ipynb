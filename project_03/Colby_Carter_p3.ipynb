{
 "cells": [
  {
   "cell_type": "markdown",
   "metadata": {},
   "source": [
    "# Project 3: Poisonous mushrooms\n",
    "\n",
    "# Author: Colby Carter\n",
    "\n",
    "## Due: December 4, 2017"
   ]
  },
  {
   "cell_type": "markdown",
   "metadata": {},
   "source": [
    "In this project, you'll investigate properties of mushrooms. This classic dataset contains over 8000 observations, where each mushroom is described by a variety of features like color, odor, etc., and the target variable is an indicator for whether the mushroom is poisonous. Since all the observations are categorical, I've binarized the feature space. Look at the feature_names below to see all 126 binary names.\n",
    "\n",
    "You'll start by running PCA to reduce the dimensionality from 126 down to 2 so that you can easily visualize the data. In general, PCA is very useful for visualization (though sklearn.manifold.tsne is known to produce better visualizations). Recall that PCA is a linear transformation. The 1st projected dimension is the linear combination of all 126 original features that captures as much of the variance in the data as possible. The 2nd projected dimension is the linear combination of all 126 original features that captures as much of the remaining variance as possible. The idea of dense low dimensional representations is crucial to machine learning!\n",
    "\n",
    "Once you've projected the data to 2 dimensions, you'll experiment with clustering using KMeans and density estimation with Gaussian Mixture Models. Finally, you'll train a classifier by fitting a GMM for the positive class and a GMM for the negative class, and perform inference by comparing the probabilities output by each model.\n",
    "\n",
    "As always, you're welcome to work on the project in groups and discuss ideas on the course wall, but please prepare your own write-up and write your own code."
   ]
  },
  {
   "cell_type": "code",
   "execution_count": 1,
   "metadata": {
    "collapsed": true
   },
   "outputs": [],
   "source": [
    "%matplotlib inline\n",
    "\n",
    "import numpy as np\n",
    "import matplotlib.pyplot as plt\n",
    "from sklearn import metrics\n",
    "from sklearn.decomposition import PCA\n",
    "from sklearn.cluster import KMeans\n",
    "from sklearn.mixture import GaussianMixture\n",
    "#from sklearn.mixture import GMM\n",
    "from matplotlib.colors import LogNorm"
   ]
  },
  {
   "cell_type": "markdown",
   "metadata": {},
   "source": [
    "Load feature names."
   ]
  },
  {
   "cell_type": "code",
   "execution_count": 2,
   "metadata": {},
   "outputs": [
    {
     "name": "stdout",
     "output_type": "stream",
     "text": [
      "Loaded feature names: 126\n",
      "<class '_io.TextIOWrapper'>\n"
     ]
    }
   ],
   "source": [
    "feature_names = []\n",
    "with open('mushroom.map') as fmap:\n",
    "    for line in fmap:\n",
    "        [index, name, junk] = line.split()\n",
    "        feature_names.append(name)\n",
    "\n",
    "print('Loaded feature names:', len(feature_names))\n",
    "print(type(fmap))"
   ]
  },
  {
   "cell_type": "markdown",
   "metadata": {},
   "source": [
    "Load data. The data is sparse in the input file, but there aren't too many features, so we'll use a dense representation, which is supported by all sklearn objects."
   ]
  },
  {
   "cell_type": "code",
   "execution_count": 3,
   "metadata": {},
   "outputs": [
    {
     "name": "stdout",
     "output_type": "stream",
     "text": [
      "(7000, 126) (1124, 126)\n"
     ]
    }
   ],
   "source": [
    "X, Y = [], []\n",
    "\n",
    "with open('mushroom.data') as fdata:\n",
    "    for line in fdata:\n",
    "        items = line.split()\n",
    "        Y.append(int(items.pop(0)))\n",
    "        x = np.zeros(len(feature_names))\n",
    "        for item in items:\n",
    "            feature = int(item.split(':')[0])\n",
    "            x[feature] = 1\n",
    "        X.append(x)\n",
    "\n",
    "# Convert these lists to numpy arrays.\n",
    "X = np.array(X)\n",
    "Y = np.array(Y)\n",
    "\n",
    "# Split into train and test data.\n",
    "train_data, train_labels = X[:7000], Y[:7000]\n",
    "test_data, test_labels = X[7000:], Y[7000:]\n",
    "\n",
    "# Check that the shapes look right.\n",
    "print(train_data.shape, test_data.shape)"
   ]
  },
  {
   "cell_type": "markdown",
   "metadata": {},
   "source": [
    "(1) Run Principal Components Analysis on the data. Show what fraction of the total variance in the training data is explained by the first k principal components, for k in [1, 50]."
   ]
  },
  {
   "cell_type": "code",
   "execution_count": 11,
   "metadata": {},
   "outputs": [
    {
     "name": "stdout",
     "output_type": "stream",
     "text": [
      "Variance explained by first k features:\n",
      "1 features = 0.164\n",
      "2 features = 0.297\n",
      "3 features = 0.399\n",
      "4 features = 0.470\n",
      "5 features = 0.508\n",
      "6 features = 0.545\n",
      "7 features = 0.576\n",
      "8 features = 0.604\n",
      "9 features = 0.630\n",
      "10 features = 0.652\n",
      "11 features = 0.673\n",
      "12 features = 0.691\n",
      "13 features = 0.709\n",
      "14 features = 0.726\n",
      "15 features = 0.741\n",
      "16 features = 0.756\n",
      "17 features = 0.770\n",
      "18 features = 0.784\n",
      "19 features = 0.798\n",
      "20 features = 0.809\n",
      "21 features = 0.820\n",
      "22 features = 0.830\n",
      "23 features = 0.841\n",
      "24 features = 0.851\n",
      "25 features = 0.860\n",
      "26 features = 0.868\n",
      "27 features = 0.876\n",
      "28 features = 0.884\n",
      "29 features = 0.892\n",
      "30 features = 0.899\n",
      "31 features = 0.905\n",
      "32 features = 0.911\n",
      "33 features = 0.917\n",
      "34 features = 0.922\n",
      "35 features = 0.927\n",
      "36 features = 0.932\n",
      "37 features = 0.937\n",
      "38 features = 0.942\n",
      "39 features = 0.947\n",
      "40 features = 0.951\n",
      "41 features = 0.955\n",
      "42 features = 0.959\n",
      "43 features = 0.963\n",
      "44 features = 0.966\n",
      "45 features = 0.970\n",
      "46 features = 0.973\n",
      "47 features = 0.975\n",
      "48 features = 0.978\n",
      "49 features = 0.980\n",
      "50 features = 0.982\n",
      "\n",
      "With ~98% of the training set's variance explained by the first 50 features, there is little need for the k>50 features:\n"
     ]
    },
    {
     "data": {
      "image/png": "[encoded data removed]",
      "text/plain": [
       "<matplotlib.figure.Figure at 0x1e1a053d7b8>"
      ]
     },
     "metadata": {},
     "output_type": "display_data"
    }
   ],
   "source": [
    "def P1():\n",
    "### STUDENT START ###\n",
    "    pca_1 = PCA()\n",
    "    pca_1.fit(train_data)\n",
    "    for_plot = []\n",
    "    print(\"Variance explained by first k features:\")\n",
    "    for k in range(1,51):\n",
    "        print(k,\"features =\",\"{:.3f}\".format(np.sum(pca_1.explained_variance_ratio_[0:k])))\n",
    "        for_plot.append(np.sum(pca_1.explained_variance_ratio_[0:k]))\n",
    "    print(\"\\nWith ~98% of the training set's variance explained by the first 50 features, there is little need for the k>50 features:\")\n",
    "    plt.plot(range(1,51),for_plot)\n",
    "### STUDENT END ###\n",
    "\n",
    "P1()"
   ]
  },
  {
   "cell_type": "markdown",
   "metadata": {},
   "source": [
    "(2) PCA can be very useful for visualizing data. Project the training data down to 2 dimensions and plot it. Show the positive (poisonous) cases in blue and the negative (non-poisonous) in red. Here's a reference for plotting: http://matplotlib.org/users/pyplot_tutorial.html"
   ]
  },
  {
   "cell_type": "code",
   "execution_count": 41,
   "metadata": {},
   "outputs": [
    {
     "name": "stdout",
     "output_type": "stream",
     "text": [
      "train pos= (3198, 2)\n",
      "train neg= (3802, 2)\n",
      "(3198,)\n"
     ]
    },
    {
     "data": {
      "image/png": "[encoded data removed]",
      "text/plain": [
       "<matplotlib.figure.Figure at 0x1e1a08032b0>"
      ]
     },
     "metadata": {},
     "output_type": "display_data"
    }
   ],
   "source": [
    "def P2():\n",
    "### STUDENT START ###\n",
    "    pca_2 = PCA(n_components=2)\n",
    "    train_data2 = pca_2.fit_transform(train_data)\n",
    "    \n",
    "    label_pos, label_neg = (train_labels == 1), (train_labels == 0)\n",
    "    #print(label_pos[0:10])\n",
    "    train_pos, train_neg = train_data2[label_pos], train_data2[label_neg]\n",
    "    print(\"train pos=\",train_pos.shape)\n",
    "    print(\"train neg=\",train_neg.shape)\n",
    "    print(train_pos[:,1].shape)\n",
    "    \n",
    "    #plot\n",
    "    fig, ax = plt.subplots(1, figsize = (8, 8))\n",
    "    ax.scatter(train_pos[:,0], train_pos[:,1], label = \"Poisonous\", color = 'red')\n",
    "    ax.scatter(train_neg[:,0], train_neg[:,1], label = \"Safe\", color = 'green')\n",
    "    ax.set_title(\"PCA 2-Dimension Mushroom Scatterplot\")\n",
    "    ax.legend()\n",
    "    plt.show()\n",
    "    \n",
    "    return train_data2\n",
    "    \n",
    "### STUDENT END ###\n",
    "\n",
    "train_data2 = P2()"
   ]
  },
  {
   "cell_type": "markdown",
   "metadata": {},
   "source": [
    "(3) Run KMeans with [1,16] clusters over the 2d projected data. Mark each centroid cluster and plot a circle that goes through the most distant point assigned to each cluster."
   ]
  },
  {
   "cell_type": "code",
   "execution_count": 45,
   "metadata": {},
   "outputs": [
    {
     "name": "stdout",
     "output_type": "stream",
     "text": [
      "[0.0625, 0.125, 0.1875, 0.25, 0.3125, 0.375, 0.4375, 0.5, 0.5625, 0.625, 0.6875, 0.75, 0.8125, 0.875, 0.9375, 1.0]\n",
      "[[-0.96660195 -0.18222364]\n",
      " [ 1.67541822  0.31584957]]\n"
     ]
    },
    {
     "data": {
      "image/png": "[encoded data removed]",
      "text/plain": [
       "<matplotlib.figure.Figure at 0x1e1a06836a0>"
      ]
     },
     "metadata": {},
     "output_type": "display_data"
    }
   ],
   "source": [
    "def P3():\n",
    "### STUDENT START ###\n",
    "    f, ax = plt.subplots(1,1, figsize=(4,4))\n",
    "    colors = [i/16 for i in range(1,17)]\n",
    "    print(colors)\n",
    "    \n",
    "    #for k in range(1, 17):\n",
    "    km = KMeans(n_clusters=2)\n",
    "    clusters = km.fit(train_data2)\n",
    "    centroids = clusters.cluster_centers_\n",
    "    print(centroids)\n",
    "    ax.scatter(train_data2[:,0], train_data2[:,1], color = 'blue')\n",
    "    ax.scatter(centroids[:,0], centroids[:,1], c='gold', s=50, marker='*')\n",
    "    ax.set_title(str(2) + \" Clusters\")\n",
    "    \n",
    "### STUDENT END ###\n",
    "\n",
    "P3()"
   ]
  },
  {
   "cell_type": "markdown",
   "metadata": {},
   "source": [
    "(4) Fit a Gaussian Mixture Model for the positive examples in your 2d projected data. Plot the estimated density contours as shown here: http://scikit-learn.org/stable/auto_examples/mixture/plot_gmm_pdf.html#example-mixture-plot-gmm-pdf-py. Vary the number of mixture components from 1-4 and the covariance matrix type ('spherical', 'diag', 'tied', 'full')."
   ]
  },
  {
   "cell_type": "code",
   "execution_count": null,
   "metadata": {
    "collapsed": true
   },
   "outputs": [],
   "source": [
    "#def P4():\n",
    "### STUDENT START ###\n",
    "\n",
    "### STUDENT END ###\n",
    "\n",
    "#P4()"
   ]
  },
  {
   "cell_type": "markdown",
   "metadata": {},
   "source": [
    "(5) Fit two 4-component full covariance GMMs, one for the positive examples and one for the negative examples in your 2d projected data. Predict the test examples by choosing the label for which the model gives a larger probability (use GaussianMixture.score_samples). What is the accuracy?"
   ]
  },
  {
   "cell_type": "code",
   "execution_count": null,
   "metadata": {
    "collapsed": true
   },
   "outputs": [],
   "source": [
    "#def P5():\n",
    "### STUDENT START ###\n",
    "\n",
    "### STUDENT END ###\n",
    "\n",
    "#P5()"
   ]
  },
  {
   "cell_type": "markdown",
   "metadata": {},
   "source": [
    "(6) Ideally, we'd like a model that gives the best accuracy with the fewest parameters. Run a series of experiments to find the model that gives the best accuracy with no more than 50 parameters. For example, with 3 PCA components and 2-component diagonal covariance GMMs, you'd have:\n",
    "\n",
    "( (3 mean vector + 3 covariance matrix) x 2 components ) x 2 classes = 24 parameters\n",
    "\n",
    "You should vary the number of PCA components, the number of GMM components, and the covariance type."
   ]
  },
  {
   "cell_type": "code",
   "execution_count": null,
   "metadata": {
    "collapsed": true
   },
   "outputs": [],
   "source": [
    "#def P6():\n",
    "### STUDENT START ###\n",
    "\n",
    "### STUDENT END ###\n",
    "\n",
    "#P6()"
   ]
  },
  {
   "cell_type": "code",
   "execution_count": null,
   "metadata": {
    "collapsed": true
   },
   "outputs": [],
   "source": []
  }
 ],
 "metadata": {
  "kernelspec": {
   "display_name": "Python [default]",
   "language": "python",
   "name": "python3"
  },
  "language_info": {
   "codemirror_mode": {
    "name": "ipython",
    "version": 3
   },
   "file_extension": ".py",
   "mimetype": "text/x-python",
   "name": "python",
   "nbconvert_exporter": "python",
   "pygments_lexer": "ipython3",
   "version": "3.5.3"
  }
 },
 "nbformat": 4,
 "nbformat_minor": 1
}
